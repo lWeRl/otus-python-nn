{
 "cells": [
  {
   "cell_type": "code",
   "execution_count": null,
   "metadata": {},
   "outputs": [],
   "source": [
    "import torch\n",
    "import torch.nn as nn\n",
    "import torch.nn.functional as F\n",
    "import torch.optim as optim\n",
    "\n",
    "import numpy as np\n",
    "import scipy.stats as stats\n",
    "from scipy.stats import multivariate_normal\n",
    "import matplotlib.pyplot as plt\n",
    "from mpl_toolkits.mplot3d import Axes3D\n",
    "\n",
    "%matplotlib inline"
   ]
  },
  {
   "cell_type": "code",
   "execution_count": null,
   "metadata": {},
   "outputs": [],
   "source": [
    "# параметры распределений\n",
    "mux0, muy0, sigmax0, sigmay0 = -3., 2., 1., 2.\n",
    "mux1, muy1, sigmax1, sigmay1 = 3., 2., 3., 2.\n",
    "mu0 = [mux0, muy0]\n",
    "mu1 = [mux1, muy1]\n",
    "cov0 = [[sigmax0, 0],[0, sigmay0]];\n",
    "cov1 = [[sigmax1, 0],[0, sigmay1]];"
   ]
  },
  {
   "cell_type": "code",
   "execution_count": null,
   "metadata": {},
   "outputs": [],
   "source": [
    "# получение по 1024 примеров из каждого распредления\n",
    "def sample_mult(dm0, dm1, n=1024):\n",
    "    points0 = dm0.sample((n,))\n",
    "    points1 = dm1.sample((n,))\n",
    "    result0 = torch.zeros((n, 1))\n",
    "    result1 = torch.ones((n, 1))\n",
    "    return torch.cat([points0, points1],), torch.cat([result0, result1])"
   ]
  },
  {
   "cell_type": "code",
   "execution_count": null,
   "metadata": {},
   "outputs": [],
   "source": [
    "dm0 = torch.distributions.MultivariateNormal(\n",
    "    torch.tensor(mu0),\n",
    "    torch.tensor(cov0)\n",
    ")\n",
    "dm1 = torch.distributions.MultivariateNormal(\n",
    "    torch.tensor(mu1),\n",
    "    torch.tensor(cov1)\n",
    ")"
   ]
  },
  {
   "cell_type": "code",
   "execution_count": null,
   "metadata": {},
   "outputs": [],
   "source": [
    "# Создание нейрона с 2 входами и одним выходом \n",
    "layer_mult = nn.Linear(2, 1)\n",
    "print([p.data[0] for p in layer_mult.parameters()])\n",
    "layer_mult_opt = optim.SGD(lr=1e-3, params=list(layer_mult.parameters()))"
   ]
  },
  {
   "cell_type": "code",
   "execution_count": null,
   "metadata": {},
   "outputs": [],
   "source": [
    "log_freq = 500\n",
    "for i in range(10000):\n",
    "    if i%log_freq == 0:\n",
    "        with torch.no_grad():\n",
    "            point, result = sample_mult(dm0, dm1, 100000)\n",
    "            out = torch.sigmoid(layer_mult(point))\n",
    "            loss = F.binary_cross_entropy(out, result)\n",
    "        print('Ошибка после %d x 500 итераций: %f' %(i/log_freq, loss))\n",
    "    layer_mult_opt.zero_grad()\n",
    "    point, y = sample_mult(dm0, dm1, 1024)\n",
    "    out = torch.sigmoid(layer_mult(point))\n",
    "    loss = F.binary_cross_entropy(out, y)\n",
    "    loss.backward()\n",
    "    layer_mult_opt.step()"
   ]
  },
  {
   "cell_type": "code",
   "execution_count": null,
   "metadata": {},
   "outputs": [],
   "source": [
    "#Создаем точки и значения в этих точках\n",
    "\n",
    "#\n",
    "x = np.linspace(-10,10,100)\n",
    "y = np.linspace(-10,10,100)\n",
    "X, Y = np.meshgrid(x,y)\n",
    "\n",
    "pos = np.empty(X.shape + (2,))\n",
    "pos[:, :, 0] = X; pos[:, :, 1] = Y\n",
    "\n",
    "rv0 = multivariate_normal(mu0, cov0)\n",
    "rv1 = multivariate_normal(mu1, cov1)\n",
    "\n",
    "pos_tensor = torch.tensor(pos.reshape(-1, 2), dtype=torch.float)\n",
    "with torch.no_grad():\n",
    "    dist = torch.sigmoid(layer_mult(pos_tensor)).numpy().reshape(-1, 100)"
   ]
  },
  {
   "cell_type": "code",
   "execution_count": null,
   "metadata": {},
   "outputs": [],
   "source": [
    "#Рисуем графики\n",
    "plt.rcParams['figure.figsize'] = [10, 10]\n",
    "fig1 = plt.figure()\n",
    "ax1 = fig1.gca(projection='3d')\n",
    "ax1.plot_wireframe(X, Y, rv0.pdf(pos), rstride=2, cstride=2)\n",
    "ax1.plot_wireframe(X, Y, rv1.pdf(pos), rstride=2, cstride=2)\n",
    "\n",
    "\n",
    "ax1.set_xlabel('X axis')\n",
    "ax1.set_ylabel('Y axis')\n",
    "ax1.set_zlabel('PDF')\n",
    "\n",
    "plt.show()"
   ]
  },
  {
   "cell_type": "code",
   "execution_count": null,
   "metadata": {},
   "outputs": [],
   "source": [
    "fig0 = plt.figure()\n",
    "ax0 = fig0.add_subplot(111)\n",
    "ax0.contourf(X, Y, dist, 40, alpha = 0.7, cmap='coolwarm')\n",
    "ax0.contour(X, Y, rv0.pdf(pos))\n",
    "ax0.contour(X, Y, rv1.pdf(pos))\n",
    "plt.show()"
   ]
  },
  {
   "cell_type": "code",
   "execution_count": null,
   "metadata": {},
   "outputs": [],
   "source": [
    "print([p.data[0] for p in layer_mult.parameters()])"
   ]
  },
  {
   "cell_type": "code",
   "execution_count": null,
   "metadata": {},
   "outputs": [],
   "source": [
    "torch.log(torch.sigmoid(torch.tensor(-100.)))"
   ]
  },
  {
   "cell_type": "code",
   "execution_count": null,
   "metadata": {},
   "outputs": [],
   "source": [
    "F.logsigmoid(torch.tensor(-100.))"
   ]
  }
 ],
 "metadata": {
  "kernelspec": {
   "display_name": "Python 3",
   "language": "python",
   "name": "python3"
  },
  "language_info": {
   "codemirror_mode": {
    "name": "ipython",
    "version": 3
   },
   "file_extension": ".py",
   "mimetype": "text/x-python",
   "name": "python",
   "nbconvert_exporter": "python",
   "pygments_lexer": "ipython3",
   "version": "3.6.8"
  }
 },
 "nbformat": 4,
 "nbformat_minor": 2
}
