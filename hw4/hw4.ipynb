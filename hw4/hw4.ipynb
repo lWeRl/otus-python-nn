{
 "cells": [
  {
   "cell_type": "code",
   "execution_count": 163,
   "metadata": {},
   "outputs": [],
   "source": [
    "import keras\n",
    "\n",
    "from keras.datasets import boston_housing\n",
    "from keras import layers\n",
    "from keras.optimizers import RMSprop\n",
    "\n",
    "from sklearn.model_selection import KFold"
   ]
  },
  {
   "cell_type": "code",
   "execution_count": 164,
   "metadata": {},
   "outputs": [],
   "source": [
    "epochs = 20\n",
    "folds = 10"
   ]
  },
  {
   "cell_type": "code",
   "execution_count": 165,
   "metadata": {},
   "outputs": [
    {
     "name": "stdout",
     "output_type": "stream",
     "text": [
      "Training input shape : (404, 13)\n",
      "Training output shape : (404,)\n",
      "\n",
      "Test input shape : (102, 13)\n",
      "Test output shape : (102,)\n"
     ]
    }
   ],
   "source": [
    "(train_x, train_y), (test_x, test_y) = boston_housing.load_data()\n",
    "\n",
    "print(f'Training input shape : {train_x.shape}')\n",
    "print(f'Training output shape : {train_y.shape}\\n')\n",
    "\n",
    "print(f'Test input shape : {test_x.shape}')\n",
    "print(f'Test output shape : {test_y.shape}')"
   ]
  },
  {
   "cell_type": "code",
   "execution_count": 166,
   "metadata": {},
   "outputs": [],
   "source": [
    "#Нормализуем данные по первой сигме для каждого входного параметра.\n",
    "mean = train_x.mean(axis=0)\n",
    "train_x -= mean\n",
    "std = train_x.std(axis=0)\n",
    "train_x /= std\n",
    "\n",
    "#Тестовые данные обязательно нормализовать по распределнию от обучающих данных.\n",
    "test_x -= mean\n",
    "test_x /= std"
   ]
  },
  {
   "cell_type": "code",
   "execution_count": 167,
   "metadata": {},
   "outputs": [
    {
     "name": "stdout",
     "output_type": "stream",
     "text": [
      "_________________________________________________________________\n",
      "Layer (type)                 Output Shape              Param #   \n",
      "=================================================================\n",
      "input_22 (InputLayer)        (None, 13)                0         \n",
      "_________________________________________________________________\n",
      "dense_61 (Dense)             (None, 256)               3584      \n",
      "_________________________________________________________________\n",
      "dense_62 (Dense)             (None, 1)                 257       \n",
      "=================================================================\n",
      "Total params: 3,841\n",
      "Trainable params: 3,841\n",
      "Non-trainable params: 0\n",
      "_________________________________________________________________\n"
     ]
    }
   ],
   "source": [
    "# Модель\n",
    "x = keras.Input(shape=(13,))\n",
    "y = layers.Dense(256, activation='relu')(x)\n",
    "y = layers.Dense(1)(y)\n",
    "\n",
    "model = keras.Model(inputs=x, outputs=y)\n",
    "model.summary()\n",
    "\n",
    "#model.compile(optimizer=RMSprop(),loss='mse',metrics=['mae'])\n",
    "model.compile(optimizer='rmsprop',loss='mse',metrics=['accuracy'])"
   ]
  },
  {
   "cell_type": "code",
   "execution_count": 168,
   "metadata": {},
   "outputs": [
    {
     "name": "stdout",
     "output_type": "stream",
     "text": [
      "### Fold: 0, Epochs: 20 ###########################################\n",
      "val_loss: 16.583508619448033, val_acc: 0.024390244084160503\n",
      "\n",
      "### Fold: 1, Epochs: 20 ###########################################\n",
      "val_loss: 2.9390544135396075, val_acc: 0.04878048780487805\n",
      "\n",
      "### Fold: 2, Epochs: 20 ###########################################\n",
      "val_loss: 8.443187783404094, val_acc: 0.024390243902439025\n",
      "\n",
      "### Fold: 3, Epochs: 20 ###########################################\n",
      "val_loss: 10.48260470134456, val_acc: 0.0\n",
      "\n",
      "### Fold: 4, Epochs: 20 ###########################################\n",
      "val_loss: 5.671169662475586, val_acc: 0.025\n",
      "\n",
      "### Fold: 5, Epochs: 20 ###########################################\n",
      "val_loss: 5.370118188858032, val_acc: 0.025\n",
      "\n",
      "### Fold: 6, Epochs: 20 ###########################################\n",
      "val_loss: 4.76997938156128, val_acc: 0.025\n",
      "\n",
      "### Fold: 7, Epochs: 20 ###########################################\n",
      "val_loss: 19.232290267944336, val_acc: 0.0\n",
      "\n",
      "### Fold: 8, Epochs: 20 ###########################################\n",
      "val_loss: 3.444267177581787, val_acc: 0.05\n",
      "\n",
      "### Fold: 9, Epochs: 20 ###########################################\n",
      "val_loss: 2.517553973197937, val_acc: 0.0\n",
      "\n"
     ]
    }
   ],
   "source": [
    "#Тренируем по фолдам\n",
    "for i, (train_index, test_index) in enumerate(KFold(folds).split(train_x, train_y)):\n",
    "    print(f'### Fold: {i}, Epochs: {epochs} ###########################################')\n",
    "    model.fit(\n",
    "        train_x[train_index],\n",
    "        train_y[train_index],\n",
    "        batch_size=1,\n",
    "        epochs=epochs,\n",
    "        verbose=0,\n",
    "    )\n",
    "    loss, acc = model.evaluate(train_x[test_index], train_y[test_index], verbose=0)\n",
    "    print(f'val_loss: {loss}, val_acc: {acc}\\n')\n"
   ]
  },
  {
   "cell_type": "code",
   "execution_count": 169,
   "metadata": {},
   "outputs": [
    {
     "name": "stdout",
     "output_type": "stream",
     "text": [
      "Test loss: 11.950872757855583\n",
      "Test accuracy: 0.0392156862745098\n"
     ]
    }
   ],
   "source": [
    "#Валидируем на тестовых данных, которые не участвовали в тренировке.\n",
    "score = model.evaluate(test_x, test_y, verbose=0)\n",
    "print('Test loss:', score[0])\n",
    "print('Test accuracy:', score[1])"
   ]
  },
  {
   "cell_type": "code",
   "execution_count": null,
   "metadata": {},
   "outputs": [],
   "source": []
  }
 ],
 "metadata": {
  "kernelspec": {
   "display_name": "Python 3",
   "language": "python",
   "name": "python3"
  },
  "language_info": {
   "codemirror_mode": {
    "name": "ipython",
    "version": 3
   },
   "file_extension": ".py",
   "mimetype": "text/x-python",
   "name": "python",
   "nbconvert_exporter": "python",
   "pygments_lexer": "ipython3",
   "version": "3.6.8"
  }
 },
 "nbformat": 4,
 "nbformat_minor": 2
}
