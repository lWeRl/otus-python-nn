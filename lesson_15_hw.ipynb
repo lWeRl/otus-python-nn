{
 "cells": [
  {
   "cell_type": "code",
   "execution_count": 1,
   "metadata": {},
   "outputs": [],
   "source": [
    "import torch\n",
    "import torch.nn as nn\n",
    "import torch.nn.functional as F\n",
    "import torch.optim as optim\n",
    "import matplotlib.pyplot as plt\n",
    "\n",
    "from torch.autograd import Variable\n",
    "from torch.utils.data import DataLoader\n",
    "from torchvision import datasets, transforms\n",
    "\n",
    "from utils import mnist, plot_graphs, plot_mnist"
   ]
  },
  {
   "cell_type": "code",
   "execution_count": 2,
   "metadata": {},
   "outputs": [],
   "source": [
    "device = torch.device('cuda' if torch.cuda.is_available() else 'cpu')"
   ]
  },
  {
   "cell_type": "code",
   "execution_count": 3,
   "metadata": {},
   "outputs": [],
   "source": [
    "BATCH_SIZE = 100     \n",
    "N_EPOCHS = 10       \n",
    "INPUT_DIM = 28 * 28 \n",
    "HIDDEN_DIM = 500    \n",
    "LATENT_DIM = 20\n",
    "LOG_INTERVAL = 50\n",
    "lr = 1e-3"
   ]
  },
  {
   "cell_type": "code",
   "execution_count": 4,
   "metadata": {},
   "outputs": [],
   "source": [
    "train_loader, test_loader = mnist(batch_size=BATCH_SIZE)"
   ]
  },
  {
   "cell_type": "code",
   "execution_count": 5,
   "metadata": {},
   "outputs": [],
   "source": [
    " class Encoder(nn.Module): # Энкодер\n",
    "        \n",
    "        def __init__(self, input_dim, hidden_dim, z_dim):\n",
    "            '''\n",
    "            Args:\n",
    "                input_dim: Размер входящих данных\n",
    "                hidden_dim: размер скрытого слоя\n",
    "                z_dim: Размер латентного слоя\n",
    "            '''\n",
    "            super().__init__()\n",
    "\n",
    "            self.linear = nn.Linear(input_dim, hidden_dim)\n",
    "            self.mu = nn.Linear(hidden_dim, z_dim)\n",
    "            self.var = nn.Linear(hidden_dim, z_dim)\n",
    "\n",
    "        def forward(self, x):\n",
    "            # x размерномти [batch_size, input_dim]\n",
    "\n",
    "            hidden = F.relu(self.linear(x))\n",
    "            # hidden размерномти  [batch_size, hidden_dim]\n",
    "            mu = self.mu(hidden)\n",
    "            # z_mu размерномти [batch_size, latent_dim]\n",
    "            logvar = self.var(hidden)\n",
    "            # logvar размерномти [batch_size, latent_dim]\n",
    "\n",
    "            return mu, logvar"
   ]
  },
  {
   "cell_type": "code",
   "execution_count": 6,
   "metadata": {},
   "outputs": [],
   "source": [
    "class Decoder(nn.Module): #Декодер\n",
    "    \n",
    "        def __init__(self, z_dim, hidden_dim, output_dim):\n",
    "            '''\n",
    "            Args:\n",
    "                z_dim: Размнерность латентног ослоя\n",
    "                hidden_dim: Размерность скрытого слоя.\n",
    "                output_dim: размерность выходных данных 28*28\n",
    "            '''\n",
    "            super().__init__()\n",
    "\n",
    "            self.linear = nn.Linear(z_dim, hidden_dim)\n",
    "            self.out = nn.Linear(hidden_dim, output_dim)\n",
    "\n",
    "        def forward(self, x):\n",
    "            # x размерность [batch_size, latent_dim]\n",
    "\n",
    "            hidden = F.relu(self.linear(x))\n",
    "            # hidden размерность [batch_size, hidden_dim]\n",
    "\n",
    "            predicted = torch.sigmoid(self.out(hidden))\n",
    "            # predicted размерность [batch_size, output_dim]\n",
    "\n",
    "            return predicted"
   ]
  },
  {
   "cell_type": "code",
   "execution_count": 7,
   "metadata": {},
   "outputs": [],
   "source": [
    "class VAE(nn.Module): #VAE\n",
    "    \n",
    "        def __init__(self, enc, dec):\n",
    "            super().__init__()\n",
    "\n",
    "            self.enc = enc\n",
    "            self.dec = dec\n",
    "\n",
    "        def forward(self, x):\n",
    "            # Кодирование\n",
    "            mu, logvar = self.enc(x)\n",
    "\n",
    "            # Семплирование из распределения латентного слоя z_mu, z_logvar\n",
    "            # Репараметаризация \n",
    "            \n",
    "            #Тензор стандартных отклонений \n",
    "            std = torch.exp(logvar / 2)\n",
    "            \n",
    "            # Генерируем тензор рандомного нормального распределение [0,1), размером как std\n",
    "            eps = torch.randn_like(std)\n",
    "            \n",
    "            # Приводим к полученному распределению\n",
    "            x_sample = eps.mul(std).add_(mu)\n",
    "\n",
    "            # decode\n",
    "            predicted = self.dec(x_sample)\n",
    "            return predicted, mu, logvar"
   ]
  },
  {
   "cell_type": "code",
   "execution_count": 8,
   "metadata": {},
   "outputs": [],
   "source": [
    "def loss_function(recon_x, x, mu, logvar) -> Variable:\n",
    "    # Насколько хорошо восстановлена картинка относительно оригинала (обычная кросс-энтиропия)\n",
    "    reconstruction_loss = F.binary_cross_entropy(recon_x, x.view(-1, 28*28))\n",
    "\n",
    "    # KLD - дивергенция Кульбака-Лейблера -- кол-во разницы информации между двумя распределения.\n",
    "    # В нашем cлучае насколько обученное распредленеи отклоняется от нормального. \n",
    "    # не дает сужать распределения - что позвляет им пересекаться\n",
    "\n",
    "    # see Appendix B from VAE paper:\n",
    "    # Kingma and Welling. Auto-Encoding Variational Bayes. ICLR, 2014\n",
    "    # https://arxiv.org/abs/1312.6114\n",
    "    # - D_{KL} = 0.5 * sum(1 + log(sigma^2) - mu^2 - sigma^2)\n",
    "    # note the negative D_{KL} in appendix B of the paper\n",
    "    \n",
    "    KLD_loss = -0.5 * torch.sum(1 + logvar - mu.pow(2) - logvar.exp())\n",
    "    # Normalise by same number of elements as in reconstruction - не уверен что нужно ???\n",
    "    KLD_loss /= BATCH_SIZE * 784\n",
    "\n",
    "    # reconstruction_loss пытается делать восстанавливаемые изображения похожими на оригинал.\n",
    "    # KLD_loss пытается приблизить распредление латентного слоя ближе к единичному нормальному распределению.\n",
    "    return reconstruction_loss + KLD_loss"
   ]
  },
  {
   "cell_type": "code",
   "execution_count": 9,
   "metadata": {},
   "outputs": [],
   "source": [
    "# Экодер\n",
    "encoder = Encoder(INPUT_DIM, HIDDEN_DIM, LATENT_DIM)\n",
    "\n",
    "# Декодер\n",
    "decoder = Decoder(LATENT_DIM, HIDDEN_DIM, INPUT_DIM)\n",
    "\n",
    "# VAE\n",
    "model = VAE(encoder, decoder).to(device)\n",
    "\n",
    "# Оптимизатор\n",
    "optimizer = optim.Adam(model.parameters(), lr=lr)"
   ]
  },
  {
   "cell_type": "code",
   "execution_count": 10,
   "metadata": {},
   "outputs": [],
   "source": [
    "def train(epoch):\n",
    "    # Переключаем в режим тренировки\n",
    "    model.train()\n",
    "    train_loss = 0\n",
    "    \n",
    "    # in the case of MNIST, len(train_loader.dataset) is 60000\n",
    "    # each `data` is of BATCH_SIZE samples and has shape [128, 1, 28, 28]\n",
    "    for batch_idx, (x, _) in enumerate(train_loader):\n",
    "        \n",
    "        # reshape the data into [batch_size, 784]\n",
    "        x = x.view(-1, 28 * 28)\n",
    "        x = x.to(device)\n",
    "\n",
    "        # update the gradients to zero\n",
    "        optimizer.zero_grad()\n",
    "\n",
    "        # forward pass\n",
    "        x_recon, mu, logvar = model(x)\n",
    "\n",
    "        # total loss\n",
    "        loss = loss_function(x_recon, x, mu, logvar)\n",
    "\n",
    "        # backward pass\n",
    "        loss.backward()\n",
    "        train_loss += loss.item()\n",
    "\n",
    "        # update the weights\n",
    "        optimizer.step()\n",
    "        \n",
    "        if batch_idx % LOG_INTERVAL == 0:\n",
    "            print('Train Epoch: {} [{}/{} ({:.0f}%)]\\tLoss: {:.6f}'.format(\n",
    "                epoch, batch_idx * len(x), len(train_loader.dataset),\n",
    "                100. * batch_idx / len(train_loader),\n",
    "                loss.item() / len(x)))\n",
    "\n",
    "    print('*Epoch: {} Average loss: {:.4f}'.format(epoch, train_loss / len(train_loader.dataset)))\n"
   ]
  },
  {
   "cell_type": "code",
   "execution_count": 11,
   "metadata": {},
   "outputs": [],
   "source": [
    "def test(epoch):\n",
    "    # переключение в режим вычисления\n",
    "    model.eval()\n",
    "    \n",
    "    test_loss = 0\n",
    "\n",
    "    with torch.no_grad():\n",
    "        for i, (x, _) in enumerate(test_loader):\n",
    "            \n",
    "            # Приведение в линейный вид\n",
    "            x = x.view(-1, 28 * 28)\n",
    "            x = x.to(device)\n",
    "\n",
    "            # Прогон Энкоддер - Декодер\n",
    "            x_sample, mu, logvar = model(x)\n",
    "        \n",
    "            test_loss += loss_function(x_sample, x, mu, logvar).item()\n",
    "            \n",
    "            if i == 0:\n",
    "                to_plot = x_sample[:10].view(10, 1, 28, 28)\n",
    "                plot_mnist(x[:10].view(10, 1, 28, 28), (1, 10))\n",
    "                plot_mnist(to_plot, (1, 10))\n",
    "\n",
    "        test_loss /= len(test_loader.dataset)\n",
    "        print('*Test set loss of epoch {}: {:.4f}'.format(epoch, test_loss))\n",
    "        \n",
    "    return test_loss"
   ]
  },
  {
   "cell_type": "code",
   "execution_count": 12,
   "metadata": {},
   "outputs": [
    {
     "name": "stdout",
     "output_type": "stream",
     "text": [
      "Train Epoch: 1 [0/60000 (0%)]\tLoss: 0.007008\n",
      "Train Epoch: 1 [5000/60000 (8%)]\tLoss: -0.085281\n",
      "Train Epoch: 1 [10000/60000 (17%)]\tLoss: -0.132290\n",
      "Train Epoch: 1 [15000/60000 (25%)]\tLoss: -0.162343\n",
      "Train Epoch: 1 [20000/60000 (33%)]\tLoss: -0.180630\n",
      "Train Epoch: 1 [25000/60000 (42%)]\tLoss: -0.190141\n",
      "Train Epoch: 1 [30000/60000 (50%)]\tLoss: -0.192508\n",
      "Train Epoch: 1 [35000/60000 (58%)]\tLoss: -0.197129\n",
      "Train Epoch: 1 [40000/60000 (67%)]\tLoss: -0.202434\n",
      "Train Epoch: 1 [45000/60000 (75%)]\tLoss: -0.204428\n",
      "Train Epoch: 1 [50000/60000 (83%)]\tLoss: -0.209286\n",
      "Train Epoch: 1 [55000/60000 (92%)]\tLoss: -0.215443\n",
      "====> Epoch: 1 Average loss: -0.1748\n"
     ]
    },
    {
     "data": {
      "image/png": "[encoded data removed]",
      "text/plain": [
       "<Figure size 800x80 with 10 Axes>"
      ]
     },
     "metadata": {},
     "output_type": "display_data"
    },
    {
     "data": {
      "image/png": "[encoded data removed]",
      "text/plain": [
       "<Figure size 800x80 with 10 Axes>"
      ]
     },
     "metadata": {},
     "output_type": "display_data"
    },
    {
     "name": "stdout",
     "output_type": "stream",
     "text": [
      "====> Test set loss of epoch 1: -0.2142\n",
      "Train Epoch: 2 [0/60000 (0%)]\tLoss: -0.209773\n",
      "Train Epoch: 2 [5000/60000 (8%)]\tLoss: -0.215054\n",
      "Train Epoch: 2 [10000/60000 (17%)]\tLoss: -0.212032\n",
      "Train Epoch: 2 [15000/60000 (25%)]\tLoss: -0.214722\n",
      "Train Epoch: 2 [20000/60000 (33%)]\tLoss: -0.213576\n",
      "Train Epoch: 2 [25000/60000 (42%)]\tLoss: -0.217695\n",
      "Train Epoch: 2 [30000/60000 (50%)]\tLoss: -0.214881\n",
      "Train Epoch: 2 [35000/60000 (58%)]\tLoss: -0.217296\n",
      "Train Epoch: 2 [40000/60000 (67%)]\tLoss: -0.215469\n",
      "Train Epoch: 2 [45000/60000 (75%)]\tLoss: -0.211941\n",
      "Train Epoch: 2 [50000/60000 (83%)]\tLoss: -0.211923\n",
      "Train Epoch: 2 [55000/60000 (92%)]\tLoss: -0.214596\n",
      "====> Epoch: 2 Average loss: -0.2119\n"
     ]
    },
    {
     "data": {
      "image/png": "[encoded data removed]",
      "text/plain": [
       "<Figure size 800x80 with 10 Axes>"
      ]
     },
     "metadata": {},
     "output_type": "display_data"
    },
    {
     "data": {
      "image/png": "[encoded data removed]",
      "text/plain": [
       "<Figure size 800x80 with 10 Axes>"
      ]
     },
     "metadata": {},
     "output_type": "display_data"
    },
    {
     "name": "stdout",
     "output_type": "stream",
     "text": [
      "====> Test set loss of epoch 2: -0.2085\n",
      "Train Epoch: 3 [0/60000 (0%)]\tLoss: -0.213030\n",
      "Train Epoch: 3 [5000/60000 (8%)]\tLoss: -0.200075\n",
      "Train Epoch: 3 [10000/60000 (17%)]\tLoss: -0.215429\n",
      "Train Epoch: 3 [15000/60000 (25%)]\tLoss: -0.207897\n",
      "Train Epoch: 3 [20000/60000 (33%)]\tLoss: -0.209796\n",
      "Train Epoch: 3 [25000/60000 (42%)]\tLoss: -0.205676\n",
      "Train Epoch: 3 [30000/60000 (50%)]\tLoss: -0.209004\n",
      "Train Epoch: 3 [35000/60000 (58%)]\tLoss: -0.203764\n",
      "Train Epoch: 3 [40000/60000 (67%)]\tLoss: -0.210698\n",
      "Train Epoch: 3 [45000/60000 (75%)]\tLoss: -0.214607\n",
      "Train Epoch: 3 [50000/60000 (83%)]\tLoss: -0.213112\n",
      "Train Epoch: 3 [55000/60000 (92%)]\tLoss: -0.206741\n",
      "====> Epoch: 3 Average loss: -0.2083\n"
     ]
    },
    {
     "data": {
      "image/png": "[encoded data removed]",
      "text/plain": [
       "<Figure size 800x80 with 10 Axes>"
      ]
     },
     "metadata": {},
     "output_type": "display_data"
    },
    {
     "data": {
      "image/png": "[encoded data removed]",
      "text/plain": [
       "<Figure size 800x80 with 10 Axes>"
      ]
     },
     "metadata": {},
     "output_type": "display_data"
    },
    {
     "name": "stdout",
     "output_type": "stream",
     "text": [
      "====> Test set loss of epoch 3: -0.2123\n",
      "Train Epoch: 4 [0/60000 (0%)]\tLoss: -0.211768\n",
      "Train Epoch: 4 [5000/60000 (8%)]\tLoss: -0.211464\n",
      "Train Epoch: 4 [10000/60000 (17%)]\tLoss: -0.204516\n",
      "Train Epoch: 4 [15000/60000 (25%)]\tLoss: -0.214579\n",
      "Train Epoch: 4 [20000/60000 (33%)]\tLoss: -0.202326\n",
      "Train Epoch: 4 [25000/60000 (42%)]\tLoss: -0.202956\n",
      "Train Epoch: 4 [30000/60000 (50%)]\tLoss: -0.197732\n",
      "Train Epoch: 4 [35000/60000 (58%)]\tLoss: -0.209842\n",
      "Train Epoch: 4 [40000/60000 (67%)]\tLoss: -0.205594\n",
      "Train Epoch: 4 [45000/60000 (75%)]\tLoss: -0.213827\n",
      "Train Epoch: 4 [50000/60000 (83%)]\tLoss: -0.209025\n",
      "Train Epoch: 4 [55000/60000 (92%)]\tLoss: -0.198583\n",
      "====> Epoch: 4 Average loss: -0.2071\n"
     ]
    },
    {
     "data": {
      "image/png": "[encoded data removed]",
      "text/plain": [
       "<Figure size 800x80 with 10 Axes>"
      ]
     },
     "metadata": {},
     "output_type": "display_data"
    },
    {
     "data": {
      "image/png": "[encoded data removed]",
      "text/plain": [
       "<Figure size 800x80 with 10 Axes>"
      ]
     },
     "metadata": {},
     "output_type": "display_data"
    },
    {
     "name": "stdout",
     "output_type": "stream",
     "text": [
      "====> Test set loss of epoch 4: -0.2052\n",
      "Train Epoch: 5 [0/60000 (0%)]\tLoss: -0.204870\n",
      "Train Epoch: 5 [5000/60000 (8%)]\tLoss: -0.205788\n",
      "Train Epoch: 5 [10000/60000 (17%)]\tLoss: -0.208213\n",
      "Train Epoch: 5 [15000/60000 (25%)]\tLoss: -0.205108\n",
      "Train Epoch: 5 [20000/60000 (33%)]\tLoss: -0.210715\n",
      "Train Epoch: 5 [25000/60000 (42%)]\tLoss: -0.198113\n",
      "Train Epoch: 5 [30000/60000 (50%)]\tLoss: -0.213140\n",
      "Train Epoch: 5 [35000/60000 (58%)]\tLoss: -0.205315\n",
      "Train Epoch: 5 [40000/60000 (67%)]\tLoss: -0.212438\n",
      "Train Epoch: 5 [45000/60000 (75%)]\tLoss: -0.213492\n",
      "Train Epoch: 5 [50000/60000 (83%)]\tLoss: -0.209331\n",
      "Train Epoch: 5 [55000/60000 (92%)]\tLoss: -0.208006\n",
      "====> Epoch: 5 Average loss: -0.2076\n"
     ]
    },
    {
     "data": {
      "image/png": "[encoded data removed]",
      "text/plain": [
       "<Figure size 800x80 with 10 Axes>"
      ]
     },
     "metadata": {},
     "output_type": "display_data"
    },
    {
     "data": {
      "image/png": "[encoded data removed]",
      "text/plain": [
       "<Figure size 800x80 with 10 Axes>"
      ]
     },
     "metadata": {},
     "output_type": "display_data"
    },
    {
     "name": "stdout",
     "output_type": "stream",
     "text": [
      "====> Test set loss of epoch 5: -0.2098\n",
      "Train Epoch: 6 [0/60000 (0%)]\tLoss: -0.217117\n",
      "Train Epoch: 6 [5000/60000 (8%)]\tLoss: -0.209159\n",
      "Train Epoch: 6 [10000/60000 (17%)]\tLoss: -0.203157\n",
      "Train Epoch: 6 [15000/60000 (25%)]\tLoss: -0.201905\n",
      "Train Epoch: 6 [20000/60000 (33%)]\tLoss: -0.201106\n",
      "Train Epoch: 6 [25000/60000 (42%)]\tLoss: -0.211046\n",
      "Train Epoch: 6 [30000/60000 (50%)]\tLoss: -0.210436\n",
      "Train Epoch: 6 [35000/60000 (58%)]\tLoss: -0.211477\n",
      "Train Epoch: 6 [40000/60000 (67%)]\tLoss: -0.211189\n",
      "Train Epoch: 6 [45000/60000 (75%)]\tLoss: -0.214950\n",
      "Train Epoch: 6 [50000/60000 (83%)]\tLoss: -0.208380\n",
      "Train Epoch: 6 [55000/60000 (92%)]\tLoss: -0.214208\n",
      "====> Epoch: 6 Average loss: -0.2081\n"
     ]
    },
    {
     "data": {
      "image/png": "[encoded data removed]",
      "text/plain": [
       "<Figure size 800x80 with 10 Axes>"
      ]
     },
     "metadata": {},
     "output_type": "display_data"
    },
    {
     "data": {
      "image/png": "[encoded data removed]",
      "text/plain": [
       "<Figure size 800x80 with 10 Axes>"
      ]
     },
     "metadata": {},
     "output_type": "display_data"
    },
    {
     "name": "stdout",
     "output_type": "stream",
     "text": [
      "====> Test set loss of epoch 6: -0.2099\n",
      "Train Epoch: 7 [0/60000 (0%)]\tLoss: -0.208481\n",
      "Train Epoch: 7 [5000/60000 (8%)]\tLoss: -0.204873\n",
      "Train Epoch: 7 [10000/60000 (17%)]\tLoss: -0.208679\n",
      "Train Epoch: 7 [15000/60000 (25%)]\tLoss: -0.210454\n",
      "Train Epoch: 7 [20000/60000 (33%)]\tLoss: -0.212100\n",
      "Train Epoch: 7 [25000/60000 (42%)]\tLoss: -0.206205\n",
      "Train Epoch: 7 [30000/60000 (50%)]\tLoss: -0.211644\n",
      "Train Epoch: 7 [35000/60000 (58%)]\tLoss: -0.208994\n",
      "Train Epoch: 7 [40000/60000 (67%)]\tLoss: -0.209097\n",
      "Train Epoch: 7 [45000/60000 (75%)]\tLoss: -0.206952\n",
      "Train Epoch: 7 [50000/60000 (83%)]\tLoss: -0.205179\n",
      "Train Epoch: 7 [55000/60000 (92%)]\tLoss: -0.208070\n",
      "====> Epoch: 7 Average loss: -0.2082\n"
     ]
    },
    {
     "data": {
      "image/png": "[encoded data removed]",
      "text/plain": [
       "<Figure size 800x80 with 10 Axes>"
      ]
     },
     "metadata": {},
     "output_type": "display_data"
    },
    {
     "data": {
      "image/png": "[encoded data removed]",
      "text/plain": [
       "<Figure size 800x80 with 10 Axes>"
      ]
     },
     "metadata": {},
     "output_type": "display_data"
    },
    {
     "name": "stdout",
     "output_type": "stream",
     "text": [
      "====> Test set loss of epoch 7: -0.2081\n",
      "Train Epoch: 8 [0/60000 (0%)]\tLoss: -0.200478\n",
      "Train Epoch: 8 [5000/60000 (8%)]\tLoss: -0.202944\n",
      "Train Epoch: 8 [10000/60000 (17%)]\tLoss: -0.210722\n",
      "Train Epoch: 8 [15000/60000 (25%)]\tLoss: -0.201956\n",
      "Train Epoch: 8 [20000/60000 (33%)]\tLoss: -0.213275\n",
      "Train Epoch: 8 [25000/60000 (42%)]\tLoss: -0.214890\n",
      "Train Epoch: 8 [30000/60000 (50%)]\tLoss: -0.212260\n",
      "Train Epoch: 8 [35000/60000 (58%)]\tLoss: -0.224042\n",
      "Train Epoch: 8 [40000/60000 (67%)]\tLoss: -0.218522\n",
      "Train Epoch: 8 [45000/60000 (75%)]\tLoss: -0.198972\n",
      "Train Epoch: 8 [50000/60000 (83%)]\tLoss: -0.209202\n",
      "Train Epoch: 8 [55000/60000 (92%)]\tLoss: -0.210603\n",
      "====> Epoch: 8 Average loss: -0.2088\n"
     ]
    },
    {
     "data": {
      "image/png": "[encoded data removed]",
      "text/plain": [
       "<Figure size 800x80 with 10 Axes>"
      ]
     },
     "metadata": {},
     "output_type": "display_data"
    },
    {
     "data": {
      "image/png": "[encoded data removed]",
      "text/plain": [
       "<Figure size 800x80 with 10 Axes>"
      ]
     },
     "metadata": {},
     "output_type": "display_data"
    },
    {
     "name": "stdout",
     "output_type": "stream",
     "text": [
      "====> Test set loss of epoch 8: -0.2105\n",
      "Train Epoch: 9 [0/60000 (0%)]\tLoss: -0.203982\n",
      "Train Epoch: 9 [5000/60000 (8%)]\tLoss: -0.209367\n",
      "Train Epoch: 9 [10000/60000 (17%)]\tLoss: -0.210137\n",
      "Train Epoch: 9 [15000/60000 (25%)]\tLoss: -0.211302\n",
      "Train Epoch: 9 [20000/60000 (33%)]\tLoss: -0.210480\n",
      "Train Epoch: 9 [25000/60000 (42%)]\tLoss: -0.218777\n",
      "Train Epoch: 9 [30000/60000 (50%)]\tLoss: -0.214355\n",
      "Train Epoch: 9 [35000/60000 (58%)]\tLoss: -0.209266\n",
      "Train Epoch: 9 [40000/60000 (67%)]\tLoss: -0.217497\n",
      "Train Epoch: 9 [45000/60000 (75%)]\tLoss: -0.203736\n",
      "Train Epoch: 9 [50000/60000 (83%)]\tLoss: -0.205726\n",
      "Train Epoch: 9 [55000/60000 (92%)]\tLoss: -0.205466\n",
      "====> Epoch: 9 Average loss: -0.2088\n"
     ]
    },
    {
     "data": {
      "image/png": "[encoded data removed]",
      "text/plain": [
       "<Figure size 800x80 with 10 Axes>"
      ]
     },
     "metadata": {},
     "output_type": "display_data"
    },
    {
     "data": {
      "image/png": "[encoded data removed]",
      "text/plain": [
       "<Figure size 800x80 with 10 Axes>"
      ]
     },
     "metadata": {},
     "output_type": "display_data"
    },
    {
     "name": "stdout",
     "output_type": "stream",
     "text": [
      "====> Test set loss of epoch 9: -0.2093\n",
      "Train Epoch: 10 [0/60000 (0%)]\tLoss: -0.216611\n",
      "Train Epoch: 10 [5000/60000 (8%)]\tLoss: -0.202549\n",
      "Train Epoch: 10 [10000/60000 (17%)]\tLoss: -0.213795\n",
      "Train Epoch: 10 [15000/60000 (25%)]\tLoss: -0.206934\n",
      "Train Epoch: 10 [20000/60000 (33%)]\tLoss: -0.202420\n",
      "Train Epoch: 10 [25000/60000 (42%)]\tLoss: -0.211117\n",
      "Train Epoch: 10 [30000/60000 (50%)]\tLoss: -0.207841\n",
      "Train Epoch: 10 [35000/60000 (58%)]\tLoss: -0.207293\n",
      "Train Epoch: 10 [40000/60000 (67%)]\tLoss: -0.210485\n",
      "Train Epoch: 10 [45000/60000 (75%)]\tLoss: -0.206532\n",
      "Train Epoch: 10 [50000/60000 (83%)]\tLoss: -0.213956\n",
      "Train Epoch: 10 [55000/60000 (92%)]\tLoss: -0.208958\n",
      "====> Epoch: 10 Average loss: -0.2089\n"
     ]
    },
    {
     "data": {
      "image/png": "[encoded data removed]",
      "text/plain": [
       "<Figure size 800x80 with 10 Axes>"
      ]
     },
     "metadata": {},
     "output_type": "display_data"
    },
    {
     "data": {
      "image/png": "[encoded data removed]",
      "text/plain": [
       "<Figure size 800x80 with 10 Axes>"
      ]
     },
     "metadata": {},
     "output_type": "display_data"
    },
    {
     "name": "stdout",
     "output_type": "stream",
     "text": [
      "====> Test set loss of epoch 10: -0.2103\n"
     ]
    }
   ],
   "source": [
    "for epoch in range(1, N_EPOCHS + 1):\n",
    "    train(epoch)\n",
    "    test(epoch)"
   ]
  },
  {
   "cell_type": "code",
   "execution_count": null,
   "metadata": {},
   "outputs": [],
   "source": []
  },
  {
   "cell_type": "code",
   "execution_count": 13,
   "metadata": {},
   "outputs": [],
   "source": [
    "# Вопросы:\n",
    "# Почему получаетя лосс отрицательный? \n",
    "# Как сделать чтобы он стабильно стремился к 0 или тут этого не надо?"
   ]
  }
 ],
 "metadata": {
  "kernelspec": {
   "display_name": "Python 3",
   "language": "python",
   "name": "python3"
  },
  "language_info": {
   "codemirror_mode": {
    "name": "ipython",
    "version": 3
   },
   "file_extension": ".py",
   "mimetype": "text/x-python",
   "name": "python",
   "nbconvert_exporter": "python",
   "pygments_lexer": "ipython3",
   "version": "3.6.8"
  }
 },
 "nbformat": 4,
 "nbformat_minor": 2
}
